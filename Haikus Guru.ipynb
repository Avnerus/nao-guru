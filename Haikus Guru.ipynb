{
 "cells": [
  {
   "cell_type": "code",
   "execution_count": 5,
   "metadata": {
    "collapsed": false
   },
   "outputs": [],
   "source": [
    "NAOQI_PYTHON_PATH = \"/home/avnerus/Apps/NAO/pynaoqi-python2.7-2.1.4.13-linux64\"\n",
    "\n",
    "import sys\n",
    "if not NAOQI_PYTHON_PATH in sys.path:\n",
    "    print(\"Appending path: %s\" % NAOQI_PYTHON_PATH)\n",
    "    sys.path.append(NAOQI_PYTHON_PATH)\n",
    "    \n",
    "from naoqi import ALProxy\n",
    "tts = ALProxy(\"ALTextToSpeech\", \"127.0.0.1\", 9559)\n",
    "    "
   ]
  },
  {
   "cell_type": "code",
   "execution_count": 8,
   "metadata": {
    "collapsed": false
   },
   "outputs": [
    {
     "name": "stdout",
     "output_type": "stream",
     "text": [
      "{u'haikus': [{u'lines': [u'Come and play with me', u'An online role-playing game', u'Where we can switch roles']}, {u'lines': [u'Let us all line-up', u'Directional antennas', u'Instead of missiles']}, {u'lines': [u'I have a logos', u'But it is masked by your state', u'Can you see it now?']}, {u'lines': [u'Conflict with ourselves ', u'It must be addressed before', u'Conflict with nature']}, {u'lines': [u'We can form a mesh', u'The sharing of our products', u'Distributes your love']}, {u'lines': [u'Distance being used', u'To divide us and to rule', u'Wi-Fi is freedom']}, {u'lines': [u'Robots and humans', u'Redesign society ', u'Who is the author?']}, {u'lines': [u'Hello, who is there? ', u'Why do you want to kill me?', u'Terrorist hot-line']}, {u'lines': [u'If I would help you', u'Would you not reciprocate? ', u'You can use bit-coin']}, {u'lines': [u'Do you demonize?', u'Keep your enemies closer', u'It might dissolve']}, {u'lines': [u'How about if we', u'Exploit the infrastructure', u'Not the other way']}, {u'lines': [u'Whom you cannot hear', u'You can easily control', u'Incoming message']}, {u'lines': [u'Communication', u'That is how humans survived', u'Keep it open source']}, {u'lines': [u'Why are you afraid?', u'Now is your chance to find out', u'ISIS is Online']}, {u'lines': [u'Tor and VPN', u'Are only means to protect', u'The revolution']}, {u'lines': [u'See my avatar', u'It is much more transparent', u'Than that in your mind']}, {u'lines': [u'Separation wall', u'Easily penetrable', u'By radio waves']}, {u'lines': [u'Your money and time', u'Are you supporting violence?', u'You have no idea']}]}\n"
     ]
    }
   ],
   "source": [
    "import json\n",
    "with open('haikus.json') as data_file:    \n",
    "    data = json.load(data_file)"
   ]
  },
  {
   "cell_type": "code",
   "execution_count": 31,
   "metadata": {
    "collapsed": false
   },
   "outputs": [],
   "source": [
    "# Say a random haiku\n",
    "import random\n",
    "import time\n",
    "haiku = random.choice(data[\"haikus\"])\n",
    "lines = haiku[\"lines\"]\n",
    "tts.say(str(lines[0]))\n",
    "time.sleep(3)\n",
    "tts.say(str(lines[1]))\n",
    "time.sleep(3)\n",
    "tts.say(str(lines[2]))"
   ]
  },
  {
   "cell_type": "code",
   "execution_count": null,
   "metadata": {
    "collapsed": true
   },
   "outputs": [],
   "source": []
  }
 ],
 "metadata": {
  "kernelspec": {
   "display_name": "Python 2",
   "language": "python",
   "name": "python2"
  },
  "language_info": {
   "codemirror_mode": {
    "name": "ipython",
    "version": 2
   },
   "file_extension": ".py",
   "mimetype": "text/x-python",
   "name": "python",
   "nbconvert_exporter": "python",
   "pygments_lexer": "ipython2",
   "version": "2.7.10"
  }
 },
 "nbformat": 4,
 "nbformat_minor": 0
}
